{
 "cells": [
  {
   "cell_type": "code",
   "execution_count": 1,
   "metadata": {
    "collapsed": true,
    "pycharm": {
     "is_executing": false
    }
   },
   "outputs": [],
   "source": [
    "%matplotlib inline\n",
    "%load_ext autoreload\n",
    "%autoreload 2"
   ]
  },
  {
   "cell_type": "code",
   "execution_count": 3,
   "outputs": [],
   "source": [
    "# settings\n",
    "data1 = 5\n",
    "data2 = 7\n",
    "eps = 0.2\n",
    "lmd_1 = 0.3\n",
    "lmd_2 = 0.02\n",
    "lr = 0.01\n",
    "batch_size = 128\n",
    "img_size = 28\n",
    "crop_size = 26\n",
    "epochs = 10"
   ],
   "metadata": {
    "collapsed": false,
    "pycharm": {
     "name": "#%%\n",
     "is_executing": false
    }
   }
  },
  {
   "cell_type": "code",
   "execution_count": 11,
   "outputs": [
    {
     "name": "stdout",
     "text": [
      "Extracting MNIST_data\\train-images-idx3-ubyte.gz\n",
      "Extracting MNIST_data\\train-labels-idx1-ubyte.gz\nExtracting MNIST_data\\t10k-images-idx3-ubyte.gz\nExtracting MNIST_data\\t10k-labels-idx1-ubyte.gz\n"
     ],
     "output_type": "stream"
    },
    {
     "data": {
      "text/plain": "<Figure size 432x288 with 1 Axes>",
      "image/png": "[encoded data removed]"
     },
     "metadata": {
      "needs_background": "light"
     },
     "output_type": "display_data"
    }
   ],
   "source": [
    "import numpy as np\n",
    "import matplotlib.pyplot as plt\n",
    "import seaborn as sns\n",
    "from tensorflow.examples.tutorials.mnist import input_data\n",
    "mnist = input_data.read_data_sets('MNIST_data', one_hot=False)\n",
    "digit5 = mnist.train.images[mnist.train.labels==data1]\n",
    "digit7 = mnist.train.images[mnist.train.labels==data2]"
   ],
   "metadata": {
    "collapsed": false,
    "pycharm": {
     "name": "#%%\n",
     "is_executing": false
    }
   }
  },
  {
   "cell_type": "code",
   "execution_count": 39,
   "outputs": [
    {
     "data": {
      "text/plain": "<Figure size 432x288 with 1 Axes>",
      "image/png": "[encoded data removed]"
     },
     "metadata": {
      "needs_background": "light"
     },
     "output_type": "display_data"
    }
   ],
   "source": [
    "mean5 = np.mean(digit5,0)\n",
    "mean7 = np.mean(digit7,0)\n",
    "corr = (mean7.reshape(28,28)-mean5.reshape(28,28))/2\n",
    "# corr[abs(corr)<eps]=0\n",
    "plt.imshow(corr,cmap='seismic')\n",
    "plt.show()"
   ],
   "metadata": {
    "collapsed": false,
    "pycharm": {
     "name": "#%%\n",
     "is_executing": false
    }
   }
  },
  {
   "cell_type": "code",
   "execution_count": 42,
   "outputs": [
    {
     "data": {
      "text/plain": "<Figure size 432x288 with 1 Axes>",
      "image/png": "[encoded data removed]"
     },
     "metadata": {
      "needs_background": "light"
     },
     "output_type": "display_data"
    }
   ],
   "source": [
    "y_5 = np.array([-1]*len(digit5))\n",
    "y_7 = np.array([1]*len(digit7))\n",
    "\n",
    "corr = corr.flatten()\n",
    "idx = np.argsort(abs(corr))[::-1]\n",
    "robust_acc = []\n",
    "clean_acc = []\n",
    "w_ = np.zeros_like(corr)\n",
    "\n",
    "\n",
    "for p in range(img_size*img_size):\n",
    "    w_[idx[p]] = corr[idx[p]]\n",
    "    acc_5 = y_5 * np.matmul(digit5, w_) - eps*sum(abs(w_))\n",
    "    acc_7 = y_7 * np.matmul(digit7, w_) - eps*sum(abs(w_))\n",
    "    if sum(acc_7>0) == 0:\n",
    "        test_acc = sum(acc_5>0)/len(digit5)\n",
    "    else:\n",
    "        test_acc = (sum(acc_5>0) + sum(acc_7>0))/(len(digit5)+len(digit7))\n",
    "    robust_acc.append(test_acc)\n",
    "    \n",
    "    acc_5 = y_5 * np.matmul(digit5, w_)\n",
    "    acc_7 = y_7 * np.matmul(digit7, w_)\n",
    "    if sum(acc_7>0) == 0:\n",
    "        test_acc = sum(acc_5>0)/len(digit5)\n",
    "    else:\n",
    "        test_acc = (sum(acc_5>0) + sum(acc_7>0))/(len(digit5)+len(digit7))\n",
    "    clean_acc.append(test_acc)\n",
    "\n",
    "plt.semilogx(robust_acc, 'r')\n",
    "plt.semilogx(clean_acc, 'b')\n",
    "\n",
    "plt.show()"
   ],
   "metadata": {
    "collapsed": false,
    "pycharm": {
     "name": "#%%\n",
     "is_executing": false
    }
   }
  },
  {
   "cell_type": "code",
   "execution_count": 43,
   "outputs": [
    {
     "name": "stdout",
     "text": [
      "0.0\n"
     ],
     "output_type": "stream"
    }
   ],
   "source": [
    "# get robustness from adversarial training\n",
    "w_at = corr.copy()\n",
    "w_at[abs(w_at)<eps]=0\n",
    "w_at[w_at>0] -= eps\n",
    "w_at[w_at<0] += eps\n",
    "acc_5 = y_5 * np.matmul(digit5, w_at) - eps*sum(abs(w_))\n",
    "acc_7 = y_7 * np.matmul(digit7, w_at) - eps*sum(abs(w_))\n",
    "test_acc = (sum(acc_5>0) + sum(acc_7>0))/(len(digit5)+len(digit7))\n",
    "print(test_acc)"
   ],
   "metadata": {
    "collapsed": false,
    "pycharm": {
     "name": "#%%\n",
     "is_executing": false
    }
   }
  },
  {
   "cell_type": "code",
   "execution_count": null,
   "outputs": [],
   "source": [
    "# y_5 = np.array([-1]*len(digit5))\n",
    "# y_7 = np.array([1]*len(digit7))\n",
    "# \n",
    "# corr = corr.flatten()\n",
    "# corr_p = corr.copy()\n",
    "# corr_p[corr_p<0]=0\n",
    "# corr_n = corr.copy()\n",
    "# corr_n[corr_n>0]=0\n",
    "# idx_p = np.argsort(abs(corr_p))[::-1]\n",
    "# idx_n = np.argsort(abs(corr_n))[::-1]\n",
    "# robust_acc = []\n",
    "# w_ = np.zeros_like(corr)\n",
    "# \n",
    "# \n",
    "# for i in range(int(img_size*img_size/2)):\n",
    "#     w_[idx_p[i]] = corr_p[idx_p[i]]\n",
    "#     w_[idx_n[i]] = corr_n[idx_n[i]]\n",
    "#     acc_5 = y_5 * np.matmul(digit5, w_) - eps*sum(abs(w_))\n",
    "#     acc_7 = y_7 * np.matmul(digit7, w_) - eps*sum(abs(w_))\n",
    "#     test_acc = (sum(acc_5>0) + sum(acc_7>0))/(len(digit5)+len(digit7))\n",
    "#     robust_acc.append(test_acc)\n",
    "#     robust_acc.append(test_acc)\n",
    "# plt.semilogx(robust_acc, 'r--')\n",
    "# plt.show()"
   ],
   "metadata": {
    "collapsed": false,
    "pycharm": {
     "name": "#%%\n"
    }
   }
  }
 ],
 "metadata": {
  "language_info": {
   "codemirror_mode": {
    "name": "ipython",
    "version": 2
   },
   "file_extension": ".py",
   "mimetype": "text/x-python",
   "name": "python",
   "nbconvert_exporter": "python",
   "pygments_lexer": "ipython2",
   "version": "2.7.6"
  },
  "kernelspec": {
   "name": "python3",
   "language": "python",
   "display_name": "Python 3"
  },
  "pycharm": {
   "stem_cell": {
    "cell_type": "raw",
    "source": [],
    "metadata": {
     "collapsed": false
    }
   }
  }
 },
 "nbformat": 4,
 "nbformat_minor": 0
}